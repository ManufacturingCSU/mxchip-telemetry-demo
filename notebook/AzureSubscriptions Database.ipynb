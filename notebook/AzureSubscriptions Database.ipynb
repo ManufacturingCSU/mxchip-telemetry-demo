{
    "cells": [
        {
            "cell_type": "markdown",
            "metadata": {
                "azdata_cell_guid": "905fddf0-6a1e-418a-904c-39d785d5e815"
            },
            "source": [
                "Create the Telemtry table within the IoT database.  You will need to change the Connection to point specifically to the newly created IoT database for all the cells in this notebook."
            ]
        },
        {
            "cell_type": "code",
            "execution_count": null,
            "metadata": {
                "azdata_cell_guid": "134ffe2d-9e9e-4afd-95b6-e6829befa0b0"
            },
            "outputs": [],
            "source": [
                "/****** Object:  Table [dbo].[Telemetry]    Script Date: 7/10/2022 3:33:35 PM ******/\n",
                "SET ANSI_NULLS ON\n",
                "GO\n",
                "\n",
                "SET QUOTED_IDENTIFIER ON\n",
                "GO\n",
                "\n",
                "CREATE TABLE [dbo].[Telemetry](\n",
                "\t[MessageID] [bigint] IDENTITY(1,1) NOT NULL,\n",
                "\t[Device] [varchar](100) NOT NULL,\n",
                "\t[WindowEnd] [datetime2](7) NOT NULL,\n",
                "\t[Celsius] [float] NULL,\n",
                "\t[Fahrenheit] [float] NULL,\n",
                "\t[Humidity] [float] NULL,\n",
                "\t[Pressure] [float] NULL,\n",
                "\t[AccelerometerX] [float] NULL,\n",
                "\t[AccelerometerY] [float] NULL,\n",
                "\t[AccelerometerZ] [float] NULL,\n",
                "\t[AnomalyScore] [float] NULL,\n",
                "\t[Isanomaly] [bigint] NULL,\n",
                "\t[ReasonCode] [varchar](100) NULL,\n",
                "\t[ReasonCodeDescription] [varchar](max) NULL,\n",
                " CONSTRAINT [PK_Telemetry_MessageID] PRIMARY KEY CLUSTERED \n",
                "(\n",
                "\t[MessageID] ASC\n",
                ")WITH (STATISTICS_NORECOMPUTE = OFF, IGNORE_DUP_KEY = OFF, OPTIMIZE_FOR_SEQUENTIAL_KEY = OFF) ON [PRIMARY]\n",
                ") ON [PRIMARY] TEXTIMAGE_ON [PRIMARY]\n",
                "GO"
            ]
        }
    ],
    "metadata": {
        "kernelspec": {
            "display_name": "SQL",
            "language": "sql",
            "name": "SQL"
        },
        "language_info": {
            "name": "sql",
            "version": ""
        }
    },
    "nbformat": 4,
    "nbformat_minor": 2
}
